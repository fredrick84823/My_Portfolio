{
 "cells": [
  {
   "cell_type": "code",
   "execution_count": 1,
   "metadata": {},
   "outputs": [
    {
     "name": "stdout",
     "output_type": "stream",
     "text": [
      "/Users/fredrick/Desktop\n"
     ]
    }
   ],
   "source": [
    "!pwd"
   ]
  },
  {
   "cell_type": "code",
   "execution_count": 1,
   "metadata": {},
   "outputs": [],
   "source": [
    "import pandas as pd"
   ]
  },
  {
   "cell_type": "code",
   "execution_count": 2,
   "metadata": {},
   "outputs": [
    {
     "data": {
      "text/html": [
       "<div>\n",
       "<style scoped>\n",
       "    .dataframe tbody tr th:only-of-type {\n",
       "        vertical-align: middle;\n",
       "    }\n",
       "\n",
       "    .dataframe tbody tr th {\n",
       "        vertical-align: top;\n",
       "    }\n",
       "\n",
       "    .dataframe thead th {\n",
       "        text-align: right;\n",
       "    }\n",
       "</style>\n",
       "<table border=\"1\" class=\"dataframe\">\n",
       "  <thead>\n",
       "    <tr style=\"text-align: right;\">\n",
       "      <th></th>\n",
       "      <th>user</th>\n",
       "      <th>purchase_time</th>\n",
       "      <th>value</th>\n",
       "    </tr>\n",
       "  </thead>\n",
       "  <tbody>\n",
       "    <tr>\n",
       "      <th>0</th>\n",
       "      <td>0poa0a8mcm21lijd</td>\n",
       "      <td>2021-10-07T03:28:09Z</td>\n",
       "      <td>2730.0</td>\n",
       "    </tr>\n",
       "    <tr>\n",
       "      <th>1</th>\n",
       "      <td>s3uy2pnsh4prfg7p</td>\n",
       "      <td>2021-10-07T02:49:26Z</td>\n",
       "      <td>5570.0</td>\n",
       "    </tr>\n",
       "    <tr>\n",
       "      <th>2</th>\n",
       "      <td>hjbn8f29e1g0upb9</td>\n",
       "      <td>2021-10-07T04:28:51Z</td>\n",
       "      <td>3370.0</td>\n",
       "    </tr>\n",
       "    <tr>\n",
       "      <th>3</th>\n",
       "      <td>2eqmiqomq3w3skxj</td>\n",
       "      <td>2021-10-07T01:02:33Z</td>\n",
       "      <td>3060.0</td>\n",
       "    </tr>\n",
       "    <tr>\n",
       "      <th>4</th>\n",
       "      <td>dhshq39etnv37c3o</td>\n",
       "      <td>2021-10-07T04:50:55Z</td>\n",
       "      <td>3907.0</td>\n",
       "    </tr>\n",
       "  </tbody>\n",
       "</table>\n",
       "</div>"
      ],
      "text/plain": [
       "               user         purchase_time   value\n",
       "0  0poa0a8mcm21lijd  2021-10-07T03:28:09Z  2730.0\n",
       "1  s3uy2pnsh4prfg7p  2021-10-07T02:49:26Z  5570.0\n",
       "2  hjbn8f29e1g0upb9  2021-10-07T04:28:51Z  3370.0\n",
       "3  2eqmiqomq3w3skxj  2021-10-07T01:02:33Z  3060.0\n",
       "4  dhshq39etnv37c3o  2021-10-07T04:50:55Z  3907.0"
      ]
     },
     "execution_count": 2,
     "metadata": {},
     "output_type": "execute_result"
    }
   ],
   "source": [
    "df = pd.read_csv('RFM_test_oribs.csv')\n",
    "df.head()"
   ]
  },
  {
   "cell_type": "code",
   "execution_count": 4,
   "metadata": {},
   "outputs": [],
   "source": [
    "# df_recency = df.groupby(by='Customer Name',\n",
    "#                         as_index=False)['Order Date'].max()\n",
    "# df_recency.columns = ['CustomerName', 'LastPurchaseDate']\n",
    "# recent_date = df_recency['LastPurchaseDate'].max()\n",
    "# df_recency['Recency'] = df_recency['LastPurchaseDate'].apply(\n",
    "#     lambda x: (recent_date - x).days)\n",
    "# df_recency.head()"
   ]
  },
  {
   "cell_type": "code",
   "execution_count": 3,
   "metadata": {},
   "outputs": [
    {
     "data": {
      "text/plain": [
       "purchase_time    2021-12-21T14:07:06Z\n",
       "Name: qw2jjinnn1hgepsi, dtype: object"
      ]
     },
     "execution_count": 3,
     "metadata": {},
     "output_type": "execute_result"
    }
   ],
   "source": [
    "df_pt = df.groupby('user').agg({'purchase_time':'max'})\n",
    "df_pt.loc['qw2jjinnn1hgepsi']"
   ]
  },
  {
   "cell_type": "code",
   "execution_count": 4,
   "metadata": {},
   "outputs": [
    {
     "data": {
      "text/html": [
       "<div>\n",
       "<style scoped>\n",
       "    .dataframe tbody tr th:only-of-type {\n",
       "        vertical-align: middle;\n",
       "    }\n",
       "\n",
       "    .dataframe tbody tr th {\n",
       "        vertical-align: top;\n",
       "    }\n",
       "\n",
       "    .dataframe thead th {\n",
       "        text-align: right;\n",
       "    }\n",
       "</style>\n",
       "<table border=\"1\" class=\"dataframe\">\n",
       "  <thead>\n",
       "    <tr style=\"text-align: right;\">\n",
       "      <th></th>\n",
       "      <th>purchase_time</th>\n",
       "    </tr>\n",
       "    <tr>\n",
       "      <th>user</th>\n",
       "      <th></th>\n",
       "    </tr>\n",
       "  </thead>\n",
       "  <tbody>\n",
       "    <tr>\n",
       "      <th>003ybs8e6rjf1lgi</th>\n",
       "      <td>2021-12-11T09:35:41Z</td>\n",
       "    </tr>\n",
       "    <tr>\n",
       "      <th>0040n2alngldt52d</th>\n",
       "      <td>2021-10-18T15:30:45Z</td>\n",
       "    </tr>\n",
       "    <tr>\n",
       "      <th>004vigr8e27mu4bv</th>\n",
       "      <td>2021-10-12T01:34:13Z</td>\n",
       "    </tr>\n",
       "    <tr>\n",
       "      <th>006a6rql3g1f5ok9</th>\n",
       "      <td>2021-11-25T14:09:30Z</td>\n",
       "    </tr>\n",
       "    <tr>\n",
       "      <th>006ia2ybbt36l8vq</th>\n",
       "      <td>2021-11-01T13:21:41Z</td>\n",
       "    </tr>\n",
       "  </tbody>\n",
       "</table>\n",
       "</div>"
      ],
      "text/plain": [
       "                         purchase_time\n",
       "user                                  \n",
       "003ybs8e6rjf1lgi  2021-12-11T09:35:41Z\n",
       "0040n2alngldt52d  2021-10-18T15:30:45Z\n",
       "004vigr8e27mu4bv  2021-10-12T01:34:13Z\n",
       "006a6rql3g1f5ok9  2021-11-25T14:09:30Z\n",
       "006ia2ybbt36l8vq  2021-11-01T13:21:41Z"
      ]
     },
     "execution_count": 4,
     "metadata": {},
     "output_type": "execute_result"
    }
   ],
   "source": [
    "df_pt.head()"
   ]
  },
  {
   "cell_type": "code",
   "execution_count": 5,
   "metadata": {},
   "outputs": [
    {
     "data": {
      "text/html": [
       "<div>\n",
       "<style scoped>\n",
       "    .dataframe tbody tr th:only-of-type {\n",
       "        vertical-align: middle;\n",
       "    }\n",
       "\n",
       "    .dataframe tbody tr th {\n",
       "        vertical-align: top;\n",
       "    }\n",
       "\n",
       "    .dataframe thead th {\n",
       "        text-align: right;\n",
       "    }\n",
       "</style>\n",
       "<table border=\"1\" class=\"dataframe\">\n",
       "  <thead>\n",
       "    <tr style=\"text-align: right;\">\n",
       "      <th></th>\n",
       "      <th>user</th>\n",
       "      <th>purchase_time</th>\n",
       "    </tr>\n",
       "  </thead>\n",
       "  <tbody>\n",
       "    <tr>\n",
       "      <th>0</th>\n",
       "      <td>003ybs8e6rjf1lgi</td>\n",
       "      <td>2021-12-11T09:35:41Z</td>\n",
       "    </tr>\n",
       "    <tr>\n",
       "      <th>1</th>\n",
       "      <td>0040n2alngldt52d</td>\n",
       "      <td>2021-10-18T15:30:45Z</td>\n",
       "    </tr>\n",
       "    <tr>\n",
       "      <th>2</th>\n",
       "      <td>004vigr8e27mu4bv</td>\n",
       "      <td>2021-10-12T01:34:13Z</td>\n",
       "    </tr>\n",
       "    <tr>\n",
       "      <th>3</th>\n",
       "      <td>006a6rql3g1f5ok9</td>\n",
       "      <td>2021-11-25T14:09:30Z</td>\n",
       "    </tr>\n",
       "    <tr>\n",
       "      <th>4</th>\n",
       "      <td>006ia2ybbt36l8vq</td>\n",
       "      <td>2021-11-01T13:21:41Z</td>\n",
       "    </tr>\n",
       "  </tbody>\n",
       "</table>\n",
       "</div>"
      ],
      "text/plain": [
       "               user         purchase_time\n",
       "0  003ybs8e6rjf1lgi  2021-12-11T09:35:41Z\n",
       "1  0040n2alngldt52d  2021-10-18T15:30:45Z\n",
       "2  004vigr8e27mu4bv  2021-10-12T01:34:13Z\n",
       "3  006a6rql3g1f5ok9  2021-11-25T14:09:30Z\n",
       "4  006ia2ybbt36l8vq  2021-11-01T13:21:41Z"
      ]
     },
     "execution_count": 5,
     "metadata": {},
     "output_type": "execute_result"
    }
   ],
   "source": [
    "df_pt = df_pt.reset_index()\n",
    "df_pt.head()"
   ]
  },
  {
   "cell_type": "code",
   "execution_count": 6,
   "metadata": {},
   "outputs": [
    {
     "data": {
      "text/html": [
       "<div>\n",
       "<style scoped>\n",
       "    .dataframe tbody tr th:only-of-type {\n",
       "        vertical-align: middle;\n",
       "    }\n",
       "\n",
       "    .dataframe tbody tr th {\n",
       "        vertical-align: top;\n",
       "    }\n",
       "\n",
       "    .dataframe thead th {\n",
       "        text-align: right;\n",
       "    }\n",
       "</style>\n",
       "<table border=\"1\" class=\"dataframe\">\n",
       "  <thead>\n",
       "    <tr style=\"text-align: right;\">\n",
       "      <th></th>\n",
       "      <th>user</th>\n",
       "      <th>LastPurchaseDate</th>\n",
       "    </tr>\n",
       "  </thead>\n",
       "  <tbody>\n",
       "    <tr>\n",
       "      <th>0</th>\n",
       "      <td>003ybs8e6rjf1lgi</td>\n",
       "      <td>2021-12-11T09:35:41Z</td>\n",
       "    </tr>\n",
       "    <tr>\n",
       "      <th>1</th>\n",
       "      <td>0040n2alngldt52d</td>\n",
       "      <td>2021-10-18T15:30:45Z</td>\n",
       "    </tr>\n",
       "    <tr>\n",
       "      <th>2</th>\n",
       "      <td>004vigr8e27mu4bv</td>\n",
       "      <td>2021-10-12T01:34:13Z</td>\n",
       "    </tr>\n",
       "    <tr>\n",
       "      <th>3</th>\n",
       "      <td>006a6rql3g1f5ok9</td>\n",
       "      <td>2021-11-25T14:09:30Z</td>\n",
       "    </tr>\n",
       "    <tr>\n",
       "      <th>4</th>\n",
       "      <td>006ia2ybbt36l8vq</td>\n",
       "      <td>2021-11-01T13:21:41Z</td>\n",
       "    </tr>\n",
       "  </tbody>\n",
       "</table>\n",
       "</div>"
      ],
      "text/plain": [
       "               user      LastPurchaseDate\n",
       "0  003ybs8e6rjf1lgi  2021-12-11T09:35:41Z\n",
       "1  0040n2alngldt52d  2021-10-18T15:30:45Z\n",
       "2  004vigr8e27mu4bv  2021-10-12T01:34:13Z\n",
       "3  006a6rql3g1f5ok9  2021-11-25T14:09:30Z\n",
       "4  006ia2ybbt36l8vq  2021-11-01T13:21:41Z"
      ]
     },
     "execution_count": 6,
     "metadata": {},
     "output_type": "execute_result"
    }
   ],
   "source": [
    "df_pt.columns = ['user', 'LastPurchaseDate']\n",
    "df_pt.head()"
   ]
  },
  {
   "cell_type": "code",
   "execution_count": 7,
   "metadata": {},
   "outputs": [],
   "source": [
    "df_pt['LastPurchaseDate'] = df_pt['LastPurchaseDate'].astype('datetime64[ns]')"
   ]
  },
  {
   "cell_type": "code",
   "execution_count": 8,
   "metadata": {},
   "outputs": [
    {
     "data": {
      "text/plain": [
       "Timestamp('2021-12-31 22:38:04')"
      ]
     },
     "execution_count": 8,
     "metadata": {},
     "output_type": "execute_result"
    }
   ],
   "source": [
    "max_day = df_pt['LastPurchaseDate'].max()\n",
    "max_day"
   ]
  },
  {
   "cell_type": "code",
   "execution_count": 9,
   "metadata": {},
   "outputs": [],
   "source": [
    "# df_recency['Recency'] = df_recency['LastPurchaseDate'].apply(\n",
    "#     lambda x: (recent_date - x).days)\n",
    "df_pt['recency'] = df_pt['LastPurchaseDate'].apply(lambda x: (max_day - x).days)"
   ]
  },
  {
   "cell_type": "code",
   "execution_count": 10,
   "metadata": {},
   "outputs": [
    {
     "data": {
      "text/html": [
       "<div>\n",
       "<style scoped>\n",
       "    .dataframe tbody tr th:only-of-type {\n",
       "        vertical-align: middle;\n",
       "    }\n",
       "\n",
       "    .dataframe tbody tr th {\n",
       "        vertical-align: top;\n",
       "    }\n",
       "\n",
       "    .dataframe thead th {\n",
       "        text-align: right;\n",
       "    }\n",
       "</style>\n",
       "<table border=\"1\" class=\"dataframe\">\n",
       "  <thead>\n",
       "    <tr style=\"text-align: right;\">\n",
       "      <th></th>\n",
       "      <th>user</th>\n",
       "      <th>LastPurchaseDate</th>\n",
       "      <th>recency</th>\n",
       "    </tr>\n",
       "  </thead>\n",
       "  <tbody>\n",
       "    <tr>\n",
       "      <th>0</th>\n",
       "      <td>003ybs8e6rjf1lgi</td>\n",
       "      <td>2021-12-11 09:35:41</td>\n",
       "      <td>20</td>\n",
       "    </tr>\n",
       "    <tr>\n",
       "      <th>1</th>\n",
       "      <td>0040n2alngldt52d</td>\n",
       "      <td>2021-10-18 15:30:45</td>\n",
       "      <td>74</td>\n",
       "    </tr>\n",
       "    <tr>\n",
       "      <th>2</th>\n",
       "      <td>004vigr8e27mu4bv</td>\n",
       "      <td>2021-10-12 01:34:13</td>\n",
       "      <td>80</td>\n",
       "    </tr>\n",
       "    <tr>\n",
       "      <th>3</th>\n",
       "      <td>006a6rql3g1f5ok9</td>\n",
       "      <td>2021-11-25 14:09:30</td>\n",
       "      <td>36</td>\n",
       "    </tr>\n",
       "    <tr>\n",
       "      <th>4</th>\n",
       "      <td>006ia2ybbt36l8vq</td>\n",
       "      <td>2021-11-01 13:21:41</td>\n",
       "      <td>60</td>\n",
       "    </tr>\n",
       "  </tbody>\n",
       "</table>\n",
       "</div>"
      ],
      "text/plain": [
       "               user    LastPurchaseDate  recency\n",
       "0  003ybs8e6rjf1lgi 2021-12-11 09:35:41       20\n",
       "1  0040n2alngldt52d 2021-10-18 15:30:45       74\n",
       "2  004vigr8e27mu4bv 2021-10-12 01:34:13       80\n",
       "3  006a6rql3g1f5ok9 2021-11-25 14:09:30       36\n",
       "4  006ia2ybbt36l8vq 2021-11-01 13:21:41       60"
      ]
     },
     "execution_count": 10,
     "metadata": {},
     "output_type": "execute_result"
    }
   ],
   "source": [
    "df_pt.head()"
   ]
  },
  {
   "cell_type": "code",
   "execution_count": 11,
   "metadata": {},
   "outputs": [
    {
     "data": {
      "text/html": [
       "<div>\n",
       "<style scoped>\n",
       "    .dataframe tbody tr th:only-of-type {\n",
       "        vertical-align: middle;\n",
       "    }\n",
       "\n",
       "    .dataframe tbody tr th {\n",
       "        vertical-align: top;\n",
       "    }\n",
       "\n",
       "    .dataframe thead th {\n",
       "        text-align: right;\n",
       "    }\n",
       "</style>\n",
       "<table border=\"1\" class=\"dataframe\">\n",
       "  <thead>\n",
       "    <tr style=\"text-align: right;\">\n",
       "      <th></th>\n",
       "      <th>user</th>\n",
       "      <th>frequency</th>\n",
       "    </tr>\n",
       "  </thead>\n",
       "  <tbody>\n",
       "    <tr>\n",
       "      <th>0</th>\n",
       "      <td>003ybs8e6rjf1lgi</td>\n",
       "      <td>1</td>\n",
       "    </tr>\n",
       "    <tr>\n",
       "      <th>1</th>\n",
       "      <td>0040n2alngldt52d</td>\n",
       "      <td>1</td>\n",
       "    </tr>\n",
       "    <tr>\n",
       "      <th>2</th>\n",
       "      <td>004vigr8e27mu4bv</td>\n",
       "      <td>1</td>\n",
       "    </tr>\n",
       "    <tr>\n",
       "      <th>3</th>\n",
       "      <td>006a6rql3g1f5ok9</td>\n",
       "      <td>1</td>\n",
       "    </tr>\n",
       "    <tr>\n",
       "      <th>4</th>\n",
       "      <td>006ia2ybbt36l8vq</td>\n",
       "      <td>2</td>\n",
       "    </tr>\n",
       "  </tbody>\n",
       "</table>\n",
       "</div>"
      ],
      "text/plain": [
       "               user  frequency\n",
       "0  003ybs8e6rjf1lgi          1\n",
       "1  0040n2alngldt52d          1\n",
       "2  004vigr8e27mu4bv          1\n",
       "3  006a6rql3g1f5ok9          1\n",
       "4  006ia2ybbt36l8vq          2"
      ]
     },
     "execution_count": 11,
     "metadata": {},
     "output_type": "execute_result"
    }
   ],
   "source": [
    "df_freq = df.groupby('user', as_index=False).agg({'value':'count'})\n",
    "df_freq.columns = ['user', 'frequency']\n",
    "df_freq.head()"
   ]
  },
  {
   "cell_type": "code",
   "execution_count": 12,
   "metadata": {},
   "outputs": [
    {
     "data": {
      "text/html": [
       "<div>\n",
       "<style scoped>\n",
       "    .dataframe tbody tr th:only-of-type {\n",
       "        vertical-align: middle;\n",
       "    }\n",
       "\n",
       "    .dataframe tbody tr th {\n",
       "        vertical-align: top;\n",
       "    }\n",
       "\n",
       "    .dataframe thead th {\n",
       "        text-align: right;\n",
       "    }\n",
       "</style>\n",
       "<table border=\"1\" class=\"dataframe\">\n",
       "  <thead>\n",
       "    <tr style=\"text-align: right;\">\n",
       "      <th></th>\n",
       "      <th>user</th>\n",
       "      <th>monetary</th>\n",
       "    </tr>\n",
       "  </thead>\n",
       "  <tbody>\n",
       "    <tr>\n",
       "      <th>0</th>\n",
       "      <td>003ybs8e6rjf1lgi</td>\n",
       "      <td>2030.0</td>\n",
       "    </tr>\n",
       "    <tr>\n",
       "      <th>1</th>\n",
       "      <td>0040n2alngldt52d</td>\n",
       "      <td>390.0</td>\n",
       "    </tr>\n",
       "    <tr>\n",
       "      <th>2</th>\n",
       "      <td>004vigr8e27mu4bv</td>\n",
       "      <td>720.0</td>\n",
       "    </tr>\n",
       "    <tr>\n",
       "      <th>3</th>\n",
       "      <td>006a6rql3g1f5ok9</td>\n",
       "      <td>740.0</td>\n",
       "    </tr>\n",
       "    <tr>\n",
       "      <th>4</th>\n",
       "      <td>006ia2ybbt36l8vq</td>\n",
       "      <td>3610.0</td>\n",
       "    </tr>\n",
       "  </tbody>\n",
       "</table>\n",
       "</div>"
      ],
      "text/plain": [
       "               user  monetary\n",
       "0  003ybs8e6rjf1lgi    2030.0\n",
       "1  0040n2alngldt52d     390.0\n",
       "2  004vigr8e27mu4bv     720.0\n",
       "3  006a6rql3g1f5ok9     740.0\n",
       "4  006ia2ybbt36l8vq    3610.0"
      ]
     },
     "execution_count": 12,
     "metadata": {},
     "output_type": "execute_result"
    }
   ],
   "source": [
    "df_value = df.groupby('user', as_index=False).agg({'value':'sum'})\n",
    "df_value.columns = ['user', 'monetary']\n",
    "df_value.head()"
   ]
  },
  {
   "cell_type": "code",
   "execution_count": 13,
   "metadata": {},
   "outputs": [
    {
     "data": {
      "text/html": [
       "<div>\n",
       "<style scoped>\n",
       "    .dataframe tbody tr th:only-of-type {\n",
       "        vertical-align: middle;\n",
       "    }\n",
       "\n",
       "    .dataframe tbody tr th {\n",
       "        vertical-align: top;\n",
       "    }\n",
       "\n",
       "    .dataframe thead th {\n",
       "        text-align: right;\n",
       "    }\n",
       "</style>\n",
       "<table border=\"1\" class=\"dataframe\">\n",
       "  <thead>\n",
       "    <tr style=\"text-align: right;\">\n",
       "      <th></th>\n",
       "      <th>user</th>\n",
       "      <th>recency</th>\n",
       "      <th>frequency</th>\n",
       "      <th>monetary</th>\n",
       "    </tr>\n",
       "  </thead>\n",
       "  <tbody>\n",
       "    <tr>\n",
       "      <th>0</th>\n",
       "      <td>003ybs8e6rjf1lgi</td>\n",
       "      <td>20</td>\n",
       "      <td>1</td>\n",
       "      <td>2030.0</td>\n",
       "    </tr>\n",
       "    <tr>\n",
       "      <th>1</th>\n",
       "      <td>0040n2alngldt52d</td>\n",
       "      <td>74</td>\n",
       "      <td>1</td>\n",
       "      <td>390.0</td>\n",
       "    </tr>\n",
       "    <tr>\n",
       "      <th>2</th>\n",
       "      <td>004vigr8e27mu4bv</td>\n",
       "      <td>80</td>\n",
       "      <td>1</td>\n",
       "      <td>720.0</td>\n",
       "    </tr>\n",
       "    <tr>\n",
       "      <th>3</th>\n",
       "      <td>006a6rql3g1f5ok9</td>\n",
       "      <td>36</td>\n",
       "      <td>1</td>\n",
       "      <td>740.0</td>\n",
       "    </tr>\n",
       "    <tr>\n",
       "      <th>4</th>\n",
       "      <td>006ia2ybbt36l8vq</td>\n",
       "      <td>60</td>\n",
       "      <td>2</td>\n",
       "      <td>3610.0</td>\n",
       "    </tr>\n",
       "    <tr>\n",
       "      <th>...</th>\n",
       "      <td>...</td>\n",
       "      <td>...</td>\n",
       "      <td>...</td>\n",
       "      <td>...</td>\n",
       "    </tr>\n",
       "    <tr>\n",
       "      <th>14709</th>\n",
       "      <td>zyzboiucilbii7tl</td>\n",
       "      <td>50</td>\n",
       "      <td>1</td>\n",
       "      <td>450.0</td>\n",
       "    </tr>\n",
       "    <tr>\n",
       "      <th>14710</th>\n",
       "      <td>zzhgab6b0sydwu1p</td>\n",
       "      <td>40</td>\n",
       "      <td>1</td>\n",
       "      <td>1840.0</td>\n",
       "    </tr>\n",
       "    <tr>\n",
       "      <th>14711</th>\n",
       "      <td>zzncoskc1182af8e</td>\n",
       "      <td>35</td>\n",
       "      <td>1</td>\n",
       "      <td>370.0</td>\n",
       "    </tr>\n",
       "    <tr>\n",
       "      <th>14712</th>\n",
       "      <td>zztssvit74jehb9u</td>\n",
       "      <td>10</td>\n",
       "      <td>1</td>\n",
       "      <td>500.0</td>\n",
       "    </tr>\n",
       "    <tr>\n",
       "      <th>14713</th>\n",
       "      <td>zzzyy096qq2q23ic</td>\n",
       "      <td>87</td>\n",
       "      <td>1</td>\n",
       "      <td>550.0</td>\n",
       "    </tr>\n",
       "  </tbody>\n",
       "</table>\n",
       "<p>14714 rows × 4 columns</p>\n",
       "</div>"
      ],
      "text/plain": [
       "                   user  recency  frequency  monetary\n",
       "0      003ybs8e6rjf1lgi       20          1    2030.0\n",
       "1      0040n2alngldt52d       74          1     390.0\n",
       "2      004vigr8e27mu4bv       80          1     720.0\n",
       "3      006a6rql3g1f5ok9       36          1     740.0\n",
       "4      006ia2ybbt36l8vq       60          2    3610.0\n",
       "...                 ...      ...        ...       ...\n",
       "14709  zyzboiucilbii7tl       50          1     450.0\n",
       "14710  zzhgab6b0sydwu1p       40          1    1840.0\n",
       "14711  zzncoskc1182af8e       35          1     370.0\n",
       "14712  zztssvit74jehb9u       10          1     500.0\n",
       "14713  zzzyy096qq2q23ic       87          1     550.0\n",
       "\n",
       "[14714 rows x 4 columns]"
      ]
     },
     "execution_count": 13,
     "metadata": {},
     "output_type": "execute_result"
    }
   ],
   "source": [
    "df_rfm = df_pt.merge(df_freq, on='user', how='inner').merge(df_value, on='user', how='inner')\\\n",
    "              .drop('LastPurchaseDate', axis=1)\n",
    "df_rfm"
   ]
  },
  {
   "cell_type": "code",
   "execution_count": 14,
   "metadata": {},
   "outputs": [
    {
     "data": {
      "text/html": [
       "<div>\n",
       "<style scoped>\n",
       "    .dataframe tbody tr th:only-of-type {\n",
       "        vertical-align: middle;\n",
       "    }\n",
       "\n",
       "    .dataframe tbody tr th {\n",
       "        vertical-align: top;\n",
       "    }\n",
       "\n",
       "    .dataframe thead th {\n",
       "        text-align: right;\n",
       "    }\n",
       "</style>\n",
       "<table border=\"1\" class=\"dataframe\">\n",
       "  <thead>\n",
       "    <tr style=\"text-align: right;\">\n",
       "      <th></th>\n",
       "      <th>user</th>\n",
       "      <th>recency</th>\n",
       "      <th>frequency</th>\n",
       "      <th>monetary</th>\n",
       "      <th>R_rank</th>\n",
       "      <th>F_rank</th>\n",
       "      <th>M_rank</th>\n",
       "    </tr>\n",
       "  </thead>\n",
       "  <tbody>\n",
       "    <tr>\n",
       "      <th>0</th>\n",
       "      <td>003ybs8e6rjf1lgi</td>\n",
       "      <td>20</td>\n",
       "      <td>1</td>\n",
       "      <td>2030.0</td>\n",
       "      <td>11715.0</td>\n",
       "      <td>7680.5</td>\n",
       "      <td>5027.5</td>\n",
       "    </tr>\n",
       "    <tr>\n",
       "      <th>1</th>\n",
       "      <td>0040n2alngldt52d</td>\n",
       "      <td>74</td>\n",
       "      <td>1</td>\n",
       "      <td>390.0</td>\n",
       "      <td>3142.0</td>\n",
       "      <td>7680.5</td>\n",
       "      <td>13556.5</td>\n",
       "    </tr>\n",
       "    <tr>\n",
       "      <th>2</th>\n",
       "      <td>004vigr8e27mu4bv</td>\n",
       "      <td>80</td>\n",
       "      <td>1</td>\n",
       "      <td>720.0</td>\n",
       "      <td>2246.0</td>\n",
       "      <td>7680.5</td>\n",
       "      <td>11090.5</td>\n",
       "    </tr>\n",
       "    <tr>\n",
       "      <th>3</th>\n",
       "      <td>006a6rql3g1f5ok9</td>\n",
       "      <td>36</td>\n",
       "      <td>1</td>\n",
       "      <td>740.0</td>\n",
       "      <td>9014.5</td>\n",
       "      <td>7680.5</td>\n",
       "      <td>10974.0</td>\n",
       "    </tr>\n",
       "    <tr>\n",
       "      <th>4</th>\n",
       "      <td>006ia2ybbt36l8vq</td>\n",
       "      <td>60</td>\n",
       "      <td>2</td>\n",
       "      <td>3610.0</td>\n",
       "      <td>5160.5</td>\n",
       "      <td>389.5</td>\n",
       "      <td>1379.5</td>\n",
       "    </tr>\n",
       "    <tr>\n",
       "      <th>...</th>\n",
       "      <td>...</td>\n",
       "      <td>...</td>\n",
       "      <td>...</td>\n",
       "      <td>...</td>\n",
       "      <td>...</td>\n",
       "      <td>...</td>\n",
       "      <td>...</td>\n",
       "    </tr>\n",
       "    <tr>\n",
       "      <th>14709</th>\n",
       "      <td>zyzboiucilbii7tl</td>\n",
       "      <td>50</td>\n",
       "      <td>1</td>\n",
       "      <td>450.0</td>\n",
       "      <td>7389.5</td>\n",
       "      <td>7680.5</td>\n",
       "      <td>12969.5</td>\n",
       "    </tr>\n",
       "    <tr>\n",
       "      <th>14710</th>\n",
       "      <td>zzhgab6b0sydwu1p</td>\n",
       "      <td>40</td>\n",
       "      <td>1</td>\n",
       "      <td>1840.0</td>\n",
       "      <td>8633.5</td>\n",
       "      <td>7680.5</td>\n",
       "      <td>6009.5</td>\n",
       "    </tr>\n",
       "    <tr>\n",
       "      <th>14711</th>\n",
       "      <td>zzncoskc1182af8e</td>\n",
       "      <td>35</td>\n",
       "      <td>1</td>\n",
       "      <td>370.0</td>\n",
       "      <td>9113.0</td>\n",
       "      <td>7680.5</td>\n",
       "      <td>13929.5</td>\n",
       "    </tr>\n",
       "    <tr>\n",
       "      <th>14712</th>\n",
       "      <td>zztssvit74jehb9u</td>\n",
       "      <td>10</td>\n",
       "      <td>1</td>\n",
       "      <td>500.0</td>\n",
       "      <td>13734.0</td>\n",
       "      <td>7680.5</td>\n",
       "      <td>12587.0</td>\n",
       "    </tr>\n",
       "    <tr>\n",
       "      <th>14713</th>\n",
       "      <td>zzzyy096qq2q23ic</td>\n",
       "      <td>87</td>\n",
       "      <td>1</td>\n",
       "      <td>550.0</td>\n",
       "      <td>1110.5</td>\n",
       "      <td>7680.5</td>\n",
       "      <td>12193.5</td>\n",
       "    </tr>\n",
       "  </tbody>\n",
       "</table>\n",
       "<p>14714 rows × 7 columns</p>\n",
       "</div>"
      ],
      "text/plain": [
       "                   user  recency  frequency  monetary   R_rank  F_rank  \\\n",
       "0      003ybs8e6rjf1lgi       20          1    2030.0  11715.0  7680.5   \n",
       "1      0040n2alngldt52d       74          1     390.0   3142.0  7680.5   \n",
       "2      004vigr8e27mu4bv       80          1     720.0   2246.0  7680.5   \n",
       "3      006a6rql3g1f5ok9       36          1     740.0   9014.5  7680.5   \n",
       "4      006ia2ybbt36l8vq       60          2    3610.0   5160.5   389.5   \n",
       "...                 ...      ...        ...       ...      ...     ...   \n",
       "14709  zyzboiucilbii7tl       50          1     450.0   7389.5  7680.5   \n",
       "14710  zzhgab6b0sydwu1p       40          1    1840.0   8633.5  7680.5   \n",
       "14711  zzncoskc1182af8e       35          1     370.0   9113.0  7680.5   \n",
       "14712  zztssvit74jehb9u       10          1     500.0  13734.0  7680.5   \n",
       "14713  zzzyy096qq2q23ic       87          1     550.0   1110.5  7680.5   \n",
       "\n",
       "        M_rank  \n",
       "0       5027.5  \n",
       "1      13556.5  \n",
       "2      11090.5  \n",
       "3      10974.0  \n",
       "4       1379.5  \n",
       "...        ...  \n",
       "14709  12969.5  \n",
       "14710   6009.5  \n",
       "14711  13929.5  \n",
       "14712  12587.0  \n",
       "14713  12193.5  \n",
       "\n",
       "[14714 rows x 7 columns]"
      ]
     },
     "execution_count": 14,
     "metadata": {},
     "output_type": "execute_result"
    }
   ],
   "source": [
    "df_rfm['R_rank'] = df_rfm['recency'].rank(ascending=False)\n",
    "df_rfm['F_rank'] = df_rfm['frequency'].rank(ascending=False)\n",
    "df_rfm['M_rank'] = df_rfm['monetary'].rank(ascending=False)\n",
    "df_rfm"
   ]
  },
  {
   "cell_type": "code",
   "execution_count": 15,
   "metadata": {},
   "outputs": [
    {
     "data": {
      "text/plain": [
       "14642.5"
      ]
     },
     "execution_count": 15,
     "metadata": {},
     "output_type": "execute_result"
    }
   ],
   "source": [
    "df_rfm['R_rank'].max()"
   ]
  },
  {
   "cell_type": "code",
   "execution_count": 16,
   "metadata": {},
   "outputs": [
    {
     "data": {
      "text/plain": [
       "80.00682943486427"
      ]
     },
     "execution_count": 16,
     "metadata": {},
     "output_type": "execute_result"
    }
   ],
   "source": [
    "11715.0/14642.5*100"
   ]
  },
  {
   "cell_type": "code",
   "execution_count": 17,
   "metadata": {},
   "outputs": [],
   "source": [
    "df_rfm['R_rank_nor'] = (df_rfm['R_rank']/df_rfm['R_rank'].max())*100\n",
    "df_rfm['F_rank_nor'] = (df_rfm['F_rank']/df_rfm['F_rank'].max())*100\n",
    "df_rfm['M_rank_nor'] = (df_rfm['M_rank']/df_rfm['M_rank'].max())*100"
   ]
  },
  {
   "cell_type": "code",
   "execution_count": 18,
   "metadata": {},
   "outputs": [],
   "source": [
    "df_rfm = df_rfm.drop(['R_rank', 'F_rank', 'M_rank'], axis=1)"
   ]
  },
  {
   "cell_type": "code",
   "execution_count": 19,
   "metadata": {},
   "outputs": [
    {
     "data": {
      "text/html": [
       "<div>\n",
       "<style scoped>\n",
       "    .dataframe tbody tr th:only-of-type {\n",
       "        vertical-align: middle;\n",
       "    }\n",
       "\n",
       "    .dataframe tbody tr th {\n",
       "        vertical-align: top;\n",
       "    }\n",
       "\n",
       "    .dataframe thead th {\n",
       "        text-align: right;\n",
       "    }\n",
       "</style>\n",
       "<table border=\"1\" class=\"dataframe\">\n",
       "  <thead>\n",
       "    <tr style=\"text-align: right;\">\n",
       "      <th></th>\n",
       "      <th>user</th>\n",
       "      <th>recency</th>\n",
       "      <th>frequency</th>\n",
       "      <th>monetary</th>\n",
       "      <th>R_rank_nor</th>\n",
       "      <th>F_rank_nor</th>\n",
       "      <th>M_rank_nor</th>\n",
       "    </tr>\n",
       "  </thead>\n",
       "  <tbody>\n",
       "    <tr>\n",
       "      <th>0</th>\n",
       "      <td>003ybs8e6rjf1lgi</td>\n",
       "      <td>20</td>\n",
       "      <td>1</td>\n",
       "      <td>2030.0</td>\n",
       "      <td>80.006829</td>\n",
       "      <td>100.000000</td>\n",
       "      <td>34.180916</td>\n",
       "    </tr>\n",
       "    <tr>\n",
       "      <th>1</th>\n",
       "      <td>0040n2alngldt52d</td>\n",
       "      <td>74</td>\n",
       "      <td>1</td>\n",
       "      <td>390.0</td>\n",
       "      <td>21.458084</td>\n",
       "      <td>100.000000</td>\n",
       "      <td>92.167794</td>\n",
       "    </tr>\n",
       "    <tr>\n",
       "      <th>2</th>\n",
       "      <td>004vigr8e27mu4bv</td>\n",
       "      <td>80</td>\n",
       "      <td>1</td>\n",
       "      <td>720.0</td>\n",
       "      <td>15.338911</td>\n",
       "      <td>100.000000</td>\n",
       "      <td>75.401978</td>\n",
       "    </tr>\n",
       "    <tr>\n",
       "      <th>3</th>\n",
       "      <td>006a6rql3g1f5ok9</td>\n",
       "      <td>36</td>\n",
       "      <td>1</td>\n",
       "      <td>740.0</td>\n",
       "      <td>61.563941</td>\n",
       "      <td>100.000000</td>\n",
       "      <td>74.609919</td>\n",
       "    </tr>\n",
       "    <tr>\n",
       "      <th>4</th>\n",
       "      <td>006ia2ybbt36l8vq</td>\n",
       "      <td>60</td>\n",
       "      <td>2</td>\n",
       "      <td>3610.0</td>\n",
       "      <td>35.243299</td>\n",
       "      <td>5.071284</td>\n",
       "      <td>9.378931</td>\n",
       "    </tr>\n",
       "    <tr>\n",
       "      <th>...</th>\n",
       "      <td>...</td>\n",
       "      <td>...</td>\n",
       "      <td>...</td>\n",
       "      <td>...</td>\n",
       "      <td>...</td>\n",
       "      <td>...</td>\n",
       "      <td>...</td>\n",
       "    </tr>\n",
       "    <tr>\n",
       "      <th>14709</th>\n",
       "      <td>zyzboiucilbii7tl</td>\n",
       "      <td>50</td>\n",
       "      <td>1</td>\n",
       "      <td>450.0</td>\n",
       "      <td>50.466109</td>\n",
       "      <td>100.000000</td>\n",
       "      <td>88.176905</td>\n",
       "    </tr>\n",
       "    <tr>\n",
       "      <th>14710</th>\n",
       "      <td>zzhgab6b0sydwu1p</td>\n",
       "      <td>40</td>\n",
       "      <td>1</td>\n",
       "      <td>1840.0</td>\n",
       "      <td>58.961926</td>\n",
       "      <td>100.000000</td>\n",
       "      <td>40.857327</td>\n",
       "    </tr>\n",
       "    <tr>\n",
       "      <th>14711</th>\n",
       "      <td>zzncoskc1182af8e</td>\n",
       "      <td>35</td>\n",
       "      <td>1</td>\n",
       "      <td>370.0</td>\n",
       "      <td>62.236640</td>\n",
       "      <td>100.000000</td>\n",
       "      <td>94.703743</td>\n",
       "    </tr>\n",
       "    <tr>\n",
       "      <th>14712</th>\n",
       "      <td>zztssvit74jehb9u</td>\n",
       "      <td>10</td>\n",
       "      <td>1</td>\n",
       "      <td>500.0</td>\n",
       "      <td>93.795458</td>\n",
       "      <td>100.000000</td>\n",
       "      <td>85.576367</td>\n",
       "    </tr>\n",
       "    <tr>\n",
       "      <th>14713</th>\n",
       "      <td>zzzyy096qq2q23ic</td>\n",
       "      <td>87</td>\n",
       "      <td>1</td>\n",
       "      <td>550.0</td>\n",
       "      <td>7.584087</td>\n",
       "      <td>100.000000</td>\n",
       "      <td>82.901044</td>\n",
       "    </tr>\n",
       "  </tbody>\n",
       "</table>\n",
       "<p>14714 rows × 7 columns</p>\n",
       "</div>"
      ],
      "text/plain": [
       "                   user  recency  frequency  monetary  R_rank_nor  F_rank_nor  \\\n",
       "0      003ybs8e6rjf1lgi       20          1    2030.0   80.006829  100.000000   \n",
       "1      0040n2alngldt52d       74          1     390.0   21.458084  100.000000   \n",
       "2      004vigr8e27mu4bv       80          1     720.0   15.338911  100.000000   \n",
       "3      006a6rql3g1f5ok9       36          1     740.0   61.563941  100.000000   \n",
       "4      006ia2ybbt36l8vq       60          2    3610.0   35.243299    5.071284   \n",
       "...                 ...      ...        ...       ...         ...         ...   \n",
       "14709  zyzboiucilbii7tl       50          1     450.0   50.466109  100.000000   \n",
       "14710  zzhgab6b0sydwu1p       40          1    1840.0   58.961926  100.000000   \n",
       "14711  zzncoskc1182af8e       35          1     370.0   62.236640  100.000000   \n",
       "14712  zztssvit74jehb9u       10          1     500.0   93.795458  100.000000   \n",
       "14713  zzzyy096qq2q23ic       87          1     550.0    7.584087  100.000000   \n",
       "\n",
       "       M_rank_nor  \n",
       "0       34.180916  \n",
       "1       92.167794  \n",
       "2       75.401978  \n",
       "3       74.609919  \n",
       "4        9.378931  \n",
       "...           ...  \n",
       "14709   88.176905  \n",
       "14710   40.857327  \n",
       "14711   94.703743  \n",
       "14712   85.576367  \n",
       "14713   82.901044  \n",
       "\n",
       "[14714 rows x 7 columns]"
      ]
     },
     "execution_count": 19,
     "metadata": {},
     "output_type": "execute_result"
    }
   ],
   "source": [
    "df_rfm"
   ]
  },
  {
   "cell_type": "code",
   "execution_count": 20,
   "metadata": {},
   "outputs": [],
   "source": [
    "df_rfm['RFM_score'] = df_rfm['R_rank_nor']*0.15 + df_rfm['F_rank_nor']*0.28 + df_rfm['M_rank_nor']*0.57\n",
    "# df_rfm['RFM_score'] *= 0.05"
   ]
  },
  {
   "cell_type": "code",
   "execution_count": 21,
   "metadata": {},
   "outputs": [
    {
     "data": {
      "text/plain": [
       "count    14714.000000\n",
       "mean        62.872202\n",
       "std         19.287555\n",
       "min          0.559661\n",
       "25%         48.411025\n",
       "50%         62.878211\n",
       "75%         79.001042\n",
       "max         99.705576\n",
       "Name: RFM_score, dtype: float64"
      ]
     },
     "execution_count": 21,
     "metadata": {},
     "output_type": "execute_result"
    }
   ],
   "source": [
    "df_rfm['RFM_score'].describe()"
   ]
  },
  {
   "cell_type": "code",
   "execution_count": 22,
   "metadata": {},
   "outputs": [],
   "source": [
    "high_value_user = df_rfm[df_rfm['RFM_score']>79]['user']\n",
    "medium_value_user = df_rfm[(df_rfm['RFM_score']<=79)&(df_rfm['RFM_score']>48)]['user']\n",
    "low_value_user = df_rfm[(df_rfm['RFM_score']<=48)]['user']"
   ]
  },
  {
   "cell_type": "code",
   "execution_count": 23,
   "metadata": {},
   "outputs": [
    {
     "data": {
      "text/plain": [
       "(14714, 8)"
      ]
     },
     "execution_count": 23,
     "metadata": {},
     "output_type": "execute_result"
    }
   ],
   "source": [
    "df_rfm.shape"
   ]
  },
  {
   "cell_type": "code",
   "execution_count": 24,
   "metadata": {},
   "outputs": [
    {
     "data": {
      "text/plain": [
       "0.2500339812423542"
      ]
     },
     "execution_count": 24,
     "metadata": {},
     "output_type": "execute_result"
    }
   ],
   "source": [
    "3679/14714"
   ]
  },
  {
   "cell_type": "code",
   "execution_count": 25,
   "metadata": {},
   "outputs": [
    {
     "name": "stdout",
     "output_type": "stream",
     "text": [
      "25.00339812423542\n",
      "50.85632730732635\n",
      "24.140274568438223\n",
      "14714\n",
      "14714\n"
     ]
    }
   ],
   "source": [
    "print(high_value_user.shape[0]/df_rfm.shape[0]*100)\n",
    "print(medium_value_user.shape[0]/df_rfm.shape[0]*100)\n",
    "print(low_value_user.shape[0]/df_rfm.shape[0]*100)\n",
    "print(high_value_user.shape[0]+medium_value_user.shape[0]+low_value_user.shape[0])\n",
    "print(df_rfm.shape[0])"
   ]
  },
  {
   "cell_type": "code",
   "execution_count": 26,
   "metadata": {},
   "outputs": [],
   "source": [
    "conditions = [df_rfm['user'].isin(high_value_user),\n",
    "              df_rfm['user'].isin(medium_value_user),\n",
    "              df_rfm['user'].isin(low_value_user),]"
   ]
  },
  {
   "cell_type": "code",
   "execution_count": 27,
   "metadata": {},
   "outputs": [],
   "source": [
    "import numpy as np"
   ]
  },
  {
   "cell_type": "code",
   "execution_count": 28,
   "metadata": {},
   "outputs": [],
   "source": [
    "df_rfm['Group'] = np.select(conditions, ['High_Value', 'Medium_Value', 'Low_Value'], default=-1)"
   ]
  },
  {
   "cell_type": "code",
   "execution_count": 29,
   "metadata": {},
   "outputs": [
    {
     "data": {
      "text/plain": [
       "array(['Medium_Value', 'High_Value', 'Low_Value'], dtype=object)"
      ]
     },
     "execution_count": 29,
     "metadata": {},
     "output_type": "execute_result"
    }
   ],
   "source": [
    "df_rfm['Group'].unique()"
   ]
  },
  {
   "cell_type": "code",
   "execution_count": 30,
   "metadata": {},
   "outputs": [
    {
     "data": {
      "text/html": [
       "<div>\n",
       "<style scoped>\n",
       "    .dataframe tbody tr th:only-of-type {\n",
       "        vertical-align: middle;\n",
       "    }\n",
       "\n",
       "    .dataframe tbody tr th {\n",
       "        vertical-align: top;\n",
       "    }\n",
       "\n",
       "    .dataframe thead th {\n",
       "        text-align: right;\n",
       "    }\n",
       "</style>\n",
       "<table border=\"1\" class=\"dataframe\">\n",
       "  <thead>\n",
       "    <tr style=\"text-align: right;\">\n",
       "      <th></th>\n",
       "      <th>user</th>\n",
       "      <th>recency</th>\n",
       "      <th>frequency</th>\n",
       "      <th>monetary</th>\n",
       "      <th>R_rank_nor</th>\n",
       "      <th>F_rank_nor</th>\n",
       "      <th>M_rank_nor</th>\n",
       "      <th>RFM_score</th>\n",
       "      <th>Group</th>\n",
       "    </tr>\n",
       "  </thead>\n",
       "  <tbody>\n",
       "    <tr>\n",
       "      <th>0</th>\n",
       "      <td>003ybs8e6rjf1lgi</td>\n",
       "      <td>20</td>\n",
       "      <td>1</td>\n",
       "      <td>2030.0</td>\n",
       "      <td>80.006829</td>\n",
       "      <td>100.000000</td>\n",
       "      <td>34.180916</td>\n",
       "      <td>59.484146</td>\n",
       "      <td>Medium_Value</td>\n",
       "    </tr>\n",
       "    <tr>\n",
       "      <th>1</th>\n",
       "      <td>0040n2alngldt52d</td>\n",
       "      <td>74</td>\n",
       "      <td>1</td>\n",
       "      <td>390.0</td>\n",
       "      <td>21.458084</td>\n",
       "      <td>100.000000</td>\n",
       "      <td>92.167794</td>\n",
       "      <td>83.754355</td>\n",
       "      <td>High_Value</td>\n",
       "    </tr>\n",
       "    <tr>\n",
       "      <th>2</th>\n",
       "      <td>004vigr8e27mu4bv</td>\n",
       "      <td>80</td>\n",
       "      <td>1</td>\n",
       "      <td>720.0</td>\n",
       "      <td>15.338911</td>\n",
       "      <td>100.000000</td>\n",
       "      <td>75.401978</td>\n",
       "      <td>73.279964</td>\n",
       "      <td>Medium_Value</td>\n",
       "    </tr>\n",
       "    <tr>\n",
       "      <th>3</th>\n",
       "      <td>006a6rql3g1f5ok9</td>\n",
       "      <td>36</td>\n",
       "      <td>1</td>\n",
       "      <td>740.0</td>\n",
       "      <td>61.563941</td>\n",
       "      <td>100.000000</td>\n",
       "      <td>74.609919</td>\n",
       "      <td>79.762245</td>\n",
       "      <td>High_Value</td>\n",
       "    </tr>\n",
       "    <tr>\n",
       "      <th>4</th>\n",
       "      <td>006ia2ybbt36l8vq</td>\n",
       "      <td>60</td>\n",
       "      <td>2</td>\n",
       "      <td>3610.0</td>\n",
       "      <td>35.243299</td>\n",
       "      <td>5.071284</td>\n",
       "      <td>9.378931</td>\n",
       "      <td>12.052445</td>\n",
       "      <td>Low_Value</td>\n",
       "    </tr>\n",
       "    <tr>\n",
       "      <th>...</th>\n",
       "      <td>...</td>\n",
       "      <td>...</td>\n",
       "      <td>...</td>\n",
       "      <td>...</td>\n",
       "      <td>...</td>\n",
       "      <td>...</td>\n",
       "      <td>...</td>\n",
       "      <td>...</td>\n",
       "      <td>...</td>\n",
       "    </tr>\n",
       "    <tr>\n",
       "      <th>14709</th>\n",
       "      <td>zyzboiucilbii7tl</td>\n",
       "      <td>50</td>\n",
       "      <td>1</td>\n",
       "      <td>450.0</td>\n",
       "      <td>50.466109</td>\n",
       "      <td>100.000000</td>\n",
       "      <td>88.176905</td>\n",
       "      <td>85.830752</td>\n",
       "      <td>High_Value</td>\n",
       "    </tr>\n",
       "    <tr>\n",
       "      <th>14710</th>\n",
       "      <td>zzhgab6b0sydwu1p</td>\n",
       "      <td>40</td>\n",
       "      <td>1</td>\n",
       "      <td>1840.0</td>\n",
       "      <td>58.961926</td>\n",
       "      <td>100.000000</td>\n",
       "      <td>40.857327</td>\n",
       "      <td>60.132966</td>\n",
       "      <td>Medium_Value</td>\n",
       "    </tr>\n",
       "    <tr>\n",
       "      <th>14711</th>\n",
       "      <td>zzncoskc1182af8e</td>\n",
       "      <td>35</td>\n",
       "      <td>1</td>\n",
       "      <td>370.0</td>\n",
       "      <td>62.236640</td>\n",
       "      <td>100.000000</td>\n",
       "      <td>94.703743</td>\n",
       "      <td>91.316629</td>\n",
       "      <td>High_Value</td>\n",
       "    </tr>\n",
       "    <tr>\n",
       "      <th>14712</th>\n",
       "      <td>zztssvit74jehb9u</td>\n",
       "      <td>10</td>\n",
       "      <td>1</td>\n",
       "      <td>500.0</td>\n",
       "      <td>93.795458</td>\n",
       "      <td>100.000000</td>\n",
       "      <td>85.576367</td>\n",
       "      <td>90.847848</td>\n",
       "      <td>High_Value</td>\n",
       "    </tr>\n",
       "    <tr>\n",
       "      <th>14713</th>\n",
       "      <td>zzzyy096qq2q23ic</td>\n",
       "      <td>87</td>\n",
       "      <td>1</td>\n",
       "      <td>550.0</td>\n",
       "      <td>7.584087</td>\n",
       "      <td>100.000000</td>\n",
       "      <td>82.901044</td>\n",
       "      <td>76.391208</td>\n",
       "      <td>Medium_Value</td>\n",
       "    </tr>\n",
       "  </tbody>\n",
       "</table>\n",
       "<p>14714 rows × 9 columns</p>\n",
       "</div>"
      ],
      "text/plain": [
       "                   user  recency  frequency  monetary  R_rank_nor  F_rank_nor  \\\n",
       "0      003ybs8e6rjf1lgi       20          1    2030.0   80.006829  100.000000   \n",
       "1      0040n2alngldt52d       74          1     390.0   21.458084  100.000000   \n",
       "2      004vigr8e27mu4bv       80          1     720.0   15.338911  100.000000   \n",
       "3      006a6rql3g1f5ok9       36          1     740.0   61.563941  100.000000   \n",
       "4      006ia2ybbt36l8vq       60          2    3610.0   35.243299    5.071284   \n",
       "...                 ...      ...        ...       ...         ...         ...   \n",
       "14709  zyzboiucilbii7tl       50          1     450.0   50.466109  100.000000   \n",
       "14710  zzhgab6b0sydwu1p       40          1    1840.0   58.961926  100.000000   \n",
       "14711  zzncoskc1182af8e       35          1     370.0   62.236640  100.000000   \n",
       "14712  zztssvit74jehb9u       10          1     500.0   93.795458  100.000000   \n",
       "14713  zzzyy096qq2q23ic       87          1     550.0    7.584087  100.000000   \n",
       "\n",
       "       M_rank_nor  RFM_score         Group  \n",
       "0       34.180916  59.484146  Medium_Value  \n",
       "1       92.167794  83.754355    High_Value  \n",
       "2       75.401978  73.279964  Medium_Value  \n",
       "3       74.609919  79.762245    High_Value  \n",
       "4        9.378931  12.052445     Low_Value  \n",
       "...           ...        ...           ...  \n",
       "14709   88.176905  85.830752    High_Value  \n",
       "14710   40.857327  60.132966  Medium_Value  \n",
       "14711   94.703743  91.316629    High_Value  \n",
       "14712   85.576367  90.847848    High_Value  \n",
       "14713   82.901044  76.391208  Medium_Value  \n",
       "\n",
       "[14714 rows x 9 columns]"
      ]
     },
     "execution_count": 30,
     "metadata": {},
     "output_type": "execute_result"
    }
   ],
   "source": [
    "df_rfm"
   ]
  },
  {
   "cell_type": "code",
   "execution_count": 31,
   "metadata": {},
   "outputs": [],
   "source": [
    "import matplotlib.pyplot as plt\n",
    "import seaborn as sns"
   ]
  },
  {
   "cell_type": "code",
   "execution_count": 32,
   "metadata": {},
   "outputs": [
    {
     "data": {
      "image/png": "[encoded data removed]",
      "text/plain": [
       "<Figure size 504x288 with 1 Axes>"
      ]
     },
     "metadata": {
      "needs_background": "light"
     },
     "output_type": "display_data"
    }
   ],
   "source": [
    "plt.figure(figsize=(7,4))\n",
    "sns.boxplot(x=df_rfm['RFM_score'])\n",
    "plt.show()"
   ]
  },
  {
   "cell_type": "code",
   "execution_count": 33,
   "metadata": {},
   "outputs": [],
   "source": [
    "user_pct = df_rfm.groupby('Group').agg({'user':'count'}).reset_index()\n",
    "user_pct['pct'] = user_pct['user'].apply(lambda x: x/user_pct['user'].sum())"
   ]
  },
  {
   "cell_type": "code",
   "execution_count": 34,
   "metadata": {},
   "outputs": [
    {
     "data": {
      "text/html": [
       "<div>\n",
       "<style scoped>\n",
       "    .dataframe tbody tr th:only-of-type {\n",
       "        vertical-align: middle;\n",
       "    }\n",
       "\n",
       "    .dataframe tbody tr th {\n",
       "        vertical-align: top;\n",
       "    }\n",
       "\n",
       "    .dataframe thead th {\n",
       "        text-align: right;\n",
       "    }\n",
       "</style>\n",
       "<table border=\"1\" class=\"dataframe\">\n",
       "  <thead>\n",
       "    <tr style=\"text-align: right;\">\n",
       "      <th></th>\n",
       "      <th>Group</th>\n",
       "      <th>user</th>\n",
       "      <th>pct</th>\n",
       "    </tr>\n",
       "  </thead>\n",
       "  <tbody>\n",
       "    <tr>\n",
       "      <th>0</th>\n",
       "      <td>High_Value</td>\n",
       "      <td>3679</td>\n",
       "      <td>0.250034</td>\n",
       "    </tr>\n",
       "    <tr>\n",
       "      <th>1</th>\n",
       "      <td>Low_Value</td>\n",
       "      <td>3552</td>\n",
       "      <td>0.241403</td>\n",
       "    </tr>\n",
       "    <tr>\n",
       "      <th>2</th>\n",
       "      <td>Medium_Value</td>\n",
       "      <td>7483</td>\n",
       "      <td>0.508563</td>\n",
       "    </tr>\n",
       "  </tbody>\n",
       "</table>\n",
       "</div>"
      ],
      "text/plain": [
       "          Group  user       pct\n",
       "0    High_Value  3679  0.250034\n",
       "1     Low_Value  3552  0.241403\n",
       "2  Medium_Value  7483  0.508563"
      ]
     },
     "execution_count": 34,
     "metadata": {},
     "output_type": "execute_result"
    }
   ],
   "source": [
    "user_pct"
   ]
  },
  {
   "cell_type": "code",
   "execution_count": 35,
   "metadata": {},
   "outputs": [
    {
     "data": {
      "image/png": "[encoded data removed]",
      "text/plain": [
       "<Figure size 576x432 with 1 Axes>"
      ]
     },
     "metadata": {
      "needs_background": "light"
     },
     "output_type": "display_data"
    }
   ],
   "source": [
    "plt.figure(figsize=(8,6))\n",
    "sns.barplot(x=user_pct['Group'], y=user_pct['pct'], data=user_pct)\n",
    "plt.show()"
   ]
  },
  {
   "cell_type": "code",
   "execution_count": 39,
   "metadata": {},
   "outputs": [
    {
     "name": "stdout",
     "output_type": "stream",
     "text": [
      "27779455.0\n",
      "1862952.0\n"
     ]
    }
   ],
   "source": [
    "print(df_rfm['monetary'].sum())\n",
    "print(df_rfm[df_rfm['Group']=='High_Value']['monetary'].sum())"
   ]
  },
  {
   "cell_type": "code",
   "execution_count": 40,
   "metadata": {},
   "outputs": [
    {
     "data": {
      "text/plain": [
       "6.706222278298836"
      ]
     },
     "execution_count": 40,
     "metadata": {},
     "output_type": "execute_result"
    }
   ],
   "source": [
    "1862952 / 27779455 * 100"
   ]
  },
  {
   "cell_type": "code",
   "execution_count": 41,
   "metadata": {},
   "outputs": [],
   "source": [
    "monetary_list = []\n",
    "col_list = ['High_Value', 'Medium_Value', 'Low_Value']\n",
    "for col in col_list:\n",
    "    monetary_list.append(df_rfm[df_rfm['Group']==col]['monetary'].sum())"
   ]
  },
  {
   "cell_type": "code",
   "execution_count": 42,
   "metadata": {},
   "outputs": [
    {
     "data": {
      "text/plain": [
       "[1862952.0, 12129126.0, 13787377.0]"
      ]
     },
     "execution_count": 42,
     "metadata": {},
     "output_type": "execute_result"
    }
   ],
   "source": [
    "monetary_list"
   ]
  },
  {
   "cell_type": "code",
   "execution_count": 48,
   "metadata": {},
   "outputs": [
    {
     "data": {
      "text/plain": [
       "[6.706222278298836, 43.66221727532091, 49.63156044638025]"
      ]
     },
     "execution_count": 48,
     "metadata": {},
     "output_type": "execute_result"
    }
   ],
   "source": [
    "monetary_pct_list = list(monetary_list / df_rfm['monetary'].sum() * 100)\n",
    "monetary_pct_list"
   ]
  },
  {
   "cell_type": "code",
   "execution_count": 61,
   "metadata": {},
   "outputs": [
    {
     "data": {
      "text/html": [
       "<div>\n",
       "<style scoped>\n",
       "    .dataframe tbody tr th:only-of-type {\n",
       "        vertical-align: middle;\n",
       "    }\n",
       "\n",
       "    .dataframe tbody tr th {\n",
       "        vertical-align: top;\n",
       "    }\n",
       "\n",
       "    .dataframe thead th {\n",
       "        text-align: right;\n",
       "    }\n",
       "</style>\n",
       "<table border=\"1\" class=\"dataframe\">\n",
       "  <thead>\n",
       "    <tr style=\"text-align: right;\">\n",
       "      <th></th>\n",
       "      <th>monetary</th>\n",
       "      <th>pct</th>\n",
       "    </tr>\n",
       "  </thead>\n",
       "  <tbody>\n",
       "    <tr>\n",
       "      <th>High_Value</th>\n",
       "      <td>1862952.00</td>\n",
       "      <td>6.71</td>\n",
       "    </tr>\n",
       "    <tr>\n",
       "      <th>Medium_Value</th>\n",
       "      <td>12129126.00</td>\n",
       "      <td>43.66</td>\n",
       "    </tr>\n",
       "    <tr>\n",
       "      <th>Low_Value</th>\n",
       "      <td>13787377.00</td>\n",
       "      <td>49.63</td>\n",
       "    </tr>\n",
       "  </tbody>\n",
       "</table>\n",
       "</div>"
      ],
      "text/plain": [
       "                monetary   pct\n",
       "High_Value    1862952.00  6.71\n",
       "Medium_Value 12129126.00 43.66\n",
       "Low_Value    13787377.00 49.63"
      ]
     },
     "execution_count": 61,
     "metadata": {},
     "output_type": "execute_result"
    }
   ],
   "source": [
    "pd.DataFrame([monetary_list, monetary_pct_list], columns=['High_Value', 'Medium_Value', 'Low_Value']).transpose()\\\n",
    "  .rename(columns={0:'monetary', 1:'pct'})"
   ]
  },
  {
   "cell_type": "code",
   "execution_count": 50,
   "metadata": {},
   "outputs": [],
   "source": [
    "pd.set_option('display.float_format', lambda x: '%.2f'%x)"
   ]
  },
  {
   "cell_type": "code",
   "execution_count": 63,
   "metadata": {},
   "outputs": [
    {
     "data": {
      "text/html": [
       "<div>\n",
       "<style scoped>\n",
       "    .dataframe tbody tr th:only-of-type {\n",
       "        vertical-align: middle;\n",
       "    }\n",
       "\n",
       "    .dataframe tbody tr th {\n",
       "        vertical-align: top;\n",
       "    }\n",
       "\n",
       "    .dataframe thead th {\n",
       "        text-align: right;\n",
       "    }\n",
       "</style>\n",
       "<table border=\"1\" class=\"dataframe\">\n",
       "  <thead>\n",
       "    <tr style=\"text-align: right;\">\n",
       "      <th></th>\n",
       "      <th>user</th>\n",
       "      <th>recency</th>\n",
       "      <th>frequency</th>\n",
       "      <th>monetary</th>\n",
       "      <th>R_rank_nor</th>\n",
       "      <th>F_rank_nor</th>\n",
       "      <th>M_rank_nor</th>\n",
       "      <th>RFM_score</th>\n",
       "      <th>Group</th>\n",
       "    </tr>\n",
       "  </thead>\n",
       "  <tbody>\n",
       "    <tr>\n",
       "      <th>1</th>\n",
       "      <td>0040n2alngldt52d</td>\n",
       "      <td>74</td>\n",
       "      <td>1</td>\n",
       "      <td>390.00</td>\n",
       "      <td>21.46</td>\n",
       "      <td>100.00</td>\n",
       "      <td>92.17</td>\n",
       "      <td>83.75</td>\n",
       "      <td>High_Value</td>\n",
       "    </tr>\n",
       "    <tr>\n",
       "      <th>3</th>\n",
       "      <td>006a6rql3g1f5ok9</td>\n",
       "      <td>36</td>\n",
       "      <td>1</td>\n",
       "      <td>740.00</td>\n",
       "      <td>61.56</td>\n",
       "      <td>100.00</td>\n",
       "      <td>74.61</td>\n",
       "      <td>79.76</td>\n",
       "      <td>High_Value</td>\n",
       "    </tr>\n",
       "    <tr>\n",
       "      <th>10</th>\n",
       "      <td>00m91mm1et151pgn</td>\n",
       "      <td>11</td>\n",
       "      <td>1</td>\n",
       "      <td>370.00</td>\n",
       "      <td>92.69</td>\n",
       "      <td>100.00</td>\n",
       "      <td>94.70</td>\n",
       "      <td>95.88</td>\n",
       "      <td>High_Value</td>\n",
       "    </tr>\n",
       "    <tr>\n",
       "      <th>13</th>\n",
       "      <td>00p2kjna7vlo8t3u</td>\n",
       "      <td>74</td>\n",
       "      <td>1</td>\n",
       "      <td>520.00</td>\n",
       "      <td>21.46</td>\n",
       "      <td>100.00</td>\n",
       "      <td>84.52</td>\n",
       "      <td>79.39</td>\n",
       "      <td>High_Value</td>\n",
       "    </tr>\n",
       "    <tr>\n",
       "      <th>15</th>\n",
       "      <td>010abbh9dc31mpdq</td>\n",
       "      <td>31</td>\n",
       "      <td>1</td>\n",
       "      <td>280.00</td>\n",
       "      <td>65.05</td>\n",
       "      <td>100.00</td>\n",
       "      <td>99.68</td>\n",
       "      <td>94.58</td>\n",
       "      <td>High_Value</td>\n",
       "    </tr>\n",
       "  </tbody>\n",
       "</table>\n",
       "</div>"
      ],
      "text/plain": [
       "                user  recency  frequency  monetary  R_rank_nor  F_rank_nor  \\\n",
       "1   0040n2alngldt52d       74          1    390.00       21.46      100.00   \n",
       "3   006a6rql3g1f5ok9       36          1    740.00       61.56      100.00   \n",
       "10  00m91mm1et151pgn       11          1    370.00       92.69      100.00   \n",
       "13  00p2kjna7vlo8t3u       74          1    520.00       21.46      100.00   \n",
       "15  010abbh9dc31mpdq       31          1    280.00       65.05      100.00   \n",
       "\n",
       "    M_rank_nor  RFM_score       Group  \n",
       "1        92.17      83.75  High_Value  \n",
       "3        74.61      79.76  High_Value  \n",
       "10       94.70      95.88  High_Value  \n",
       "13       84.52      79.39  High_Value  \n",
       "15       99.68      94.58  High_Value  "
      ]
     },
     "execution_count": 63,
     "metadata": {},
     "output_type": "execute_result"
    }
   ],
   "source": [
    "df_high = df_rfm[df_rfm['Group']=='High_Value']\n",
    "df_high.head()"
   ]
  },
  {
   "cell_type": "code",
   "execution_count": 65,
   "metadata": {},
   "outputs": [
    {
     "data": {
      "text/plain": [
       "506.37455830388694"
      ]
     },
     "execution_count": 65,
     "metadata": {},
     "output_type": "execute_result"
    }
   ],
   "source": [
    "df_high['monetary'].sum() / df_high['user'].nunique()"
   ]
  },
  {
   "cell_type": "code",
   "execution_count": 66,
   "metadata": {},
   "outputs": [
    {
     "data": {
      "text/plain": [
       "3881.581362612613"
      ]
     },
     "execution_count": 66,
     "metadata": {},
     "output_type": "execute_result"
    }
   ],
   "source": [
    "df_low = df_rfm[df_rfm['Group']=='Low_Value']\n",
    "df_low['monetary'].sum() / df_low['user'].nunique()"
   ]
  },
  {
   "cell_type": "code",
   "execution_count": null,
   "metadata": {},
   "outputs": [],
   "source": []
  }
 ],
 "metadata": {
  "kernelspec": {
   "display_name": "Python 3",
   "language": "python",
   "name": "python3"
  },
  "language_info": {
   "codemirror_mode": {
    "name": "ipython",
    "version": 3
   },
   "file_extension": ".py",
   "mimetype": "text/x-python",
   "name": "python",
   "nbconvert_exporter": "python",
   "pygments_lexer": "ipython3",
   "version": "3.8.5"
  }
 },
 "nbformat": 4,
 "nbformat_minor": 4
}
