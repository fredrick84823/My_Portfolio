{
 "cells": [
  {
   "cell_type": "code",
   "execution_count": 3,
   "metadata": {},
   "outputs": [
    {
     "name": "stdout",
     "output_type": "stream",
     "text": [
      "完成\n"
     ]
    }
   ],
   "source": [
    "#完整版程式碼\n",
    "import requests\n",
    "import pygsheets\n",
    "\n",
    "weather_url = 'API_Token'\n",
    "line_token = \"Line_Token\"\n",
    "\n",
    "#建立一個呼叫資料的function，並將資料存入字典裡。\n",
    "def callapi(url):\n",
    "    res = requests.get(url)\n",
    "    data = res.json()\n",
    "    location = data['records']['locations'][0]['location'][12]\n",
    "    high_temp = location['weatherElement'][12]\n",
    "    low_temp = location['weatherElement'][8]\n",
    "    rain = location['weatherElement'][0]\n",
    "    uvi = location['weatherElement'][9]\n",
    "    return {\n",
    "            'city_name' : location['locationName'],\n",
    "            'time' : high_temp['time'][0]['startTime'],\n",
    "            'time_until' : high_temp['time'][0]['endTime'],\n",
    "            'high_temp' : high_temp['time'][0]['elementValue'][0]['value'],\n",
    "            'low_temp' : low_temp['time'][0]['elementValue'][0]['value'],\n",
    "            'rain_' : rain['time'][0]['elementValue'][0]['value'],\n",
    "            'uvi_' : uvi['time'][0]['elementValue'][0]['value']\n",
    "    }\n",
    "#建立一個用line notify通知的function。\n",
    "def line_notify(msg, line_token):\n",
    "    line_url = \"https://notify-api.line.me/api/notify\"\n",
    "    line_token = line_token\n",
    "    headers = {\n",
    "        \"Authorization\": \"Bearer \" + line_token, \n",
    "        \"Content-Type\" : \"application/x-www-form-urlencoded\"\n",
    "    }\n",
    "    payload = {'message': msg }\n",
    "    r = requests.post(line_url, headers = headers, params = payload)\n",
    "    return\n",
    "\n",
    "\n",
    "def weather_notify():\n",
    "    gc = pygsheets.authorize(service_file = r\"json_token_file_path\")\n",
    "    wb = gc.open_by_url(\"google_sheet_url\")\n",
    "    #先呼叫callapi並將天氣資訊存入變數中。\n",
    "    data = callapi(weather_url)\n",
    "    time = data['time']\n",
    "    time_until = data['time_until']\n",
    "    city_name = data['city_name']\n",
    "    high_temp = data['high_temp']\n",
    "    low_temp = data['low_temp']\n",
    "    rain = data['rain_']\n",
    "    uvi = data['uvi_']\n",
    "    \n",
    "    #根據溫度提供穿著建議。\n",
    "    if int(low_temp) > 25:\n",
    "        say = \"溫度偏高，適合穿短袖！\"\n",
    "    elif 20 < int(low_temp) < 25:\n",
    "        say = \"溫度適中，記得加件薄外套！\"\n",
    "    elif 15 < int(low_temp) < 20:\n",
    "        say = \"溫度偏低，適合穿長袖和外套！\"\n",
    "    else:\n",
    "        say = \"溫度很低，請注意保暖！\"\n",
    "\n",
    "    #將天氣資訊寫入google sheets中，並用line notify通知。\n",
    "    wks = wb.worksheet_by_title(city_name)\n",
    "    date = time[:10]\n",
    "    hour = time[11:16]\n",
    "    date_until = time_until[:10]\n",
    "    hour_until = time_until[11:16]\n",
    "    col = wks.get_col(1, include_tailing_empty=False)\n",
    "    last_row = len(col)\n",
    "    return_lst = [date, hour, date_until, hour_until, high_temp, low_temp, rain, uvi]\n",
    "    wks.insert_rows(last_row, values=return_lst)\n",
    "\n",
    "    msg = f\" \\n {city_name} \\n {time}-{time_until}的天氣預報 \\n 溫度是 {low_temp}-{high_temp}度C \\n 降雨機率是 {rain}% \\n UVI是 {uvi} \\n {say}\"\n",
    "    line_notify(msg, line_token)\n",
    "\n",
    "    return print(\"完成\")\n",
    "\n",
    "weather_notify()"
   ]
  },
  {
   "cell_type": "code",
   "execution_count": null,
   "metadata": {},
   "outputs": [],
   "source": []
  }
 ],
 "metadata": {
  "kernelspec": {
   "display_name": "Python 3",
   "language": "python",
   "name": "python3"
  },
  "language_info": {
   "codemirror_mode": {
    "name": "ipython",
    "version": 3
   },
   "file_extension": ".py",
   "mimetype": "text/x-python",
   "name": "python",
   "nbconvert_exporter": "python",
   "pygments_lexer": "ipython3",
   "version": "3.8.5"
  }
 },
 "nbformat": 4,
 "nbformat_minor": 4
}
